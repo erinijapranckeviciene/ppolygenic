{
  "nbformat": 4,
  "nbformat_minor": 0,
  "metadata": {
    "colab": {
      "name": "ppolygenic.ipynb",
      "provenance": [],
      "authorship_tag": "ABX9TyNnu5zQrx5CAoJY1Jvpw8KR",
      "include_colab_link": true
    },
    "kernelspec": {
      "name": "python3",
      "display_name": "Python 3"
    },
    "language_info": {
      "name": "python"
    }
  },
  "cells": [
    {
      "cell_type": "markdown",
      "metadata": {
        "id": "view-in-github",
        "colab_type": "text"
      },
      "source": [
        "<a href=\"https://colab.research.google.com/github/erinijapranckeviciene/ppolygenic/blob/master/ppolygenic.ipynb\" target=\"_parent\"><img src=\"https://colab.research.google.com/assets/colab-badge.svg\" alt=\"Open In Colab\"/></a>"
      ]
    },
    {
      "cell_type": "markdown",
      "metadata": {
        "id": "Fy9N2hyr2qkr"
      },
      "source": [
        "# **Functions to compute and use TGS**"
      ]
    },
    {
      "cell_type": "code",
      "metadata": {
        "id": "952WVtQNgXkv"
      },
      "source": [
        "from math import erf,exp\n",
        "from itertools import product\n",
        "\n",
        "import numpy as np\n",
        "import csv\n",
        "\n",
        "\n",
        "################################################################################\n",
        "# Data structure  markers to store information about the multimaarker phenotype\n",
        "#\n",
        "markers = \\\n",
        "    {'injury': \\\n",
        "     {'rs12722':  {'gene':'COL5A1','genotype_scores':{'TT':1,'CT':0,'CC':-1},'frequencies':{'TT':0.07,'CT':0.36,'CC':0.57}, 'conf': 1},\\\n",
        "      'rs1800012':{'gene':'COL1A1','genotype_scores':{'CC':0,'AC':0,'AA':-1},'frequencies':{'CC':0.66,'AC':0.30,'AA':0.04}, 'conf': 1},\\\n",
        "      'rs679620': {'gene':'MMP3',  'genotype_scores':{'AA':1,'AG':0,'GG':-1},'frequencies':{'AA':0.31,'AG':0.53,'GG':0.16}, 'conf': 0.75}},\\\n",
        "    'endurance_power': \\\n",
        "     {'rs699':     {'gene':'AGT', 'genotype_scores':{'AA': 1, 'AG': 0, 'GG': -1},'frequencies':{'AA': 0.0676, 'AG': 0.3848, 'GG': 0.5476},'allele_freq':{'A':0.26,'G':0.74}, 'conf': 1},\\\n",
        "      'rs1042713': {'gene':'ADRB2','genotype_scores':{'AA': 1, 'AG': 0, 'GG': -1},'frequencies':{'AA': 0.2304, 'AG': 0.4992, 'GG': 0.2704},'allele_freq':{'A':0.48,'G':0.52}, 'conf': 1},\\\n",
        "      'rs11549465':{'gene':'HIF1A','genotype_scores':{'CC': 1, 'CT': 0, 'TT': -1},'frequencies':{'CC': 0.8575, 'CT': 0.1370, 'TT': 0.0055},'allele_freq':{'C':0.926,'T':0.074}, 'conf': 1}},\\\n",
        "    'vitaminB12': \\\n",
        "     {'rs1801133':    {'gene':'MTHFR', 'genotype_scores':{'GG': 0, 'AG': -0.7, 'AA': -1},'frequencies':{'GG': 0.57, 'AG': 0.33, 'AA': 0.1},'conf': 1},\\\n",
        "      'rs602662': {'gene':'FUT2','genotype_scores':{'AA': 0.7, 'AG': 0, 'GG': -1},'frequencies':{'AA': 0.20, 'AG': 0.35, 'GG': 0.45}, 'conf': 1},\\\n",
        "      'rs526934':{'gene':'TCN1','genotype_scores':{'AA': 0, 'AG': -1, 'GG': -1},'frequencies':{'AA': 0.65, 'AG': 0.30, 'GG': 0.05}, 'conf': 1},\\\n",
        "      'rs1801222':{'gene':'CUBN','genotype_scores':{'CC': 1, 'CT': 0, 'TT': -1},'frequencies':{'CC': 0.65, 'CT': 0.30, 'TT': 0.05}, 'conf': 1}}}\n",
        "\n",
        "\n",
        "\n",
        "##############################################################################\n",
        "# Data structure  -markers- extended with additional block of different markers\n",
        "markers_plus ={ \\\n",
        "# Injury\n",
        "'injury': \\\n",
        "     {'rs12722':  {'gene':'COL5A1','genotype_scores':{'TT':1,'CT':0,'CC':-1},'frequencies':{'TT':0.07,'CT':0.36,'CC':0.57}, 'conf': 1},\\\n",
        "      'rs1800012':{'gene':'COL1A1','genotype_scores':{'CC':0,'AC':0,'AA':-1},'frequencies':{'CC':0.66,'AC':0.30,'AA':0.04}, 'conf': 1},\\\n",
        "      'rs679620': {'gene':'MMP3',  'genotype_scores':{'AA':1,'AG':0,'GG':-1},'frequencies':{'AA':0.31,'AG':0.53,'GG':0.16}, 'conf': 0.75}},\\\n",
        "\n",
        "# Vilnius endurance_power\n",
        "     'endurance_power_vilnius': \\\n",
        "                {'rs1799752':     {'gene':'ACE', 'genotype_scores':{'DD': 1, 'ID': 0, 'II': -1},'allele_freq':{'I':0.43,'D':0.57}, 'conf': 1},\\\n",
        "                 'rs1815739':     {'gene':'ACTN3', 'genotype_scores':{'RR': 1, 'RX': 0, 'XX': -1},'allele_freq':{'R':0.65,'X':0.35}, 'conf': 1},\\\n",
        "                 'rs7293': {'gene':'MB','genotype_scores':{'AA': 1, 'AG': 0, 'GG': -1},'allele_freq':{'A':0.5,'G':0.5}, 'conf': 0.75},\\\n",
        "                 'rs17602729':{'gene':'AMPD1','genotype_scores':{'CC': 1, 'CT': -1, 'TT': -1},'allele_freq':{'C':0.85,'T':0.15}, 'conf': 0.75}},\\\n",
        "\n",
        "# Endurance_power\n",
        "    'endurance_power': \\\n",
        "     {'rs699':     {'gene':'AGT', 'genotype_scores':{'AA': 1, 'AG': 0, 'GG': -1},'frequencies':{'AA': 0.0676, 'AG': 0.3848, 'GG': 0.5476},'allele_freq':{'A':0.26,'G':0.74}, 'conf': 1},\\\n",
        "      'rs1042713': {'gene':'ADRB2','genotype_scores':{'AA': 1, 'AG': 0, 'GG': -1},'frequencies':{'AA': 0.2304, 'AG': 0.4992, 'GG': 0.2704},'allele_freq':{'A':0.48,'G':0.52}, 'conf': 1},\\\n",
        "      'rs11549465':{'gene':'HIF1A','genotype_scores':{'CC': 1, 'CT': 0, 'TT': -1},'frequencies':{'CC': 0.8575, 'CT': 0.1370, 'TT': 0.0055},'allele_freq':{'C':0.926,'T':0.074}, 'conf': 1}}}\n",
        "\n",
        "#################################################################\n",
        "# Labels to generate synthetic data\n",
        "labels={'injury':{'risk':0.50,'no-risk':0.5},'endurance_power':{'endurance':0.35,'mix':0.35,'power':0.30},'vitaminB12':{'high':0.20,'higher':0.20,'normal':0.20,'lower':0.20,'low':0.20}}\n",
        "##################################################################\n",
        "# TGS computation\n",
        "def total_genotype_score(markers_list,markers_dict):\n",
        "    \"\"\"\n",
        "    total_genotype_score(markers_list,markers_dict)\n",
        "    Function: computes a total genotype score TGS\n",
        "    Input: \n",
        "        markers_list: \n",
        "          string of comma separated pairs of a marker rs id\n",
        "          followed by whitespace followed by a genotype. Example:\n",
        "          markers_list='rs12722 TT, rs1800012 AA, rs679620 AG'\n",
        "        markers_dict: \n",
        "          dictionary of markers. Example: markers['injury']  \n",
        "    Return value: \n",
        "        float TGS:\n",
        "          total genotype score computed as a dot product of two vectors \n",
        "          a vector of individual genotype scores and \n",
        "          a vector of marker confidence scores \n",
        "    \"\"\"\n",
        "\n",
        "    id_gt_pairs = markers_list.split(',')\n",
        "    n_gt_pairs  = len(id_gt_pairs)\n",
        "#    if n_gt_pairs <> 3 : # number of markers may be arbitrary, here 3  \n",
        "    if n_gt_pairs < 2 : # test if it is multimarker, STOP if it is one marker\n",
        "            return -101\n",
        "\n",
        "    gt_score    = list() # vector of marker scores\n",
        "    marker_conf = list() # vector of confidence scores\n",
        "    for id_gt in id_gt_pairs:\n",
        "        if len(id_gt.split()) != 2:\n",
        "            print(\"<p> part is missing</p>\")\n",
        "            return -104\n",
        "\n",
        "        (identity,genotype) = id_gt.split()\n",
        "        #print identity, genotype\n",
        "        if identity in markers_dict:\n",
        "            marker_conf.append(float(markers_dict[identity]['conf']))\n",
        "        else:\n",
        "            print(\"<p> Invalid identity </p>\")\n",
        "            return -102 # Invalid identity\n",
        "\n",
        "        if genotype in markers_dict[identity]['genotype_scores']:\n",
        "            gt_score.append(float(markers_dict[identity]['genotype_scores'][genotype]))\n",
        "        else:\n",
        "            print(\"<p> Invalid genotype </p>\")\n",
        "            return -103 # Invalid genotype    \n",
        "      \n",
        "    # apply error function to map the score into [-1 , 1] interval\n",
        "    score = sum([gt_score[i]*marker_conf[i] for i in range(0,n_gt_pairs)])\n",
        "\n",
        "    # normalization constant is a sum of confidences\n",
        "    normalization_constant = sum(markers_dict[i]['conf'] for i in markers_dict.keys())\n",
        "\n",
        "    # normalized score\n",
        "    normalized_score = score/normalization_constant\n",
        "\n",
        "    #erf_score = erf(normalized_score)\n",
        "    # apply sigmoid function and constant shift into interval [-1,1]\n",
        "    #sigmoid_score = 1/(1+exp(-normalized_score))-0.5\n",
        "    # return original score and a normalized_score\n",
        "    #return [score,normalized_score,erf_score,sigmoid_score]\n",
        "    return [score,normalized_score]\n",
        "\n",
        "#####################################################################################  \n",
        "# test total_genotype_score\n",
        "def genotype_combinations_tgs(markers_dict):\n",
        "\n",
        "    \"\"\"\n",
        "    Testing TGS function on all possible genotype combinations \n",
        "    It works with any type of markers and any number of marker states\n",
        "    \"\"\"\n",
        "    genotypes_list    = list() # list of genotypes of each marker\n",
        "    marker_names_list = list() # list of marker names (rs ids)\n",
        "\n",
        "    for marker_id in markers_dict:\n",
        "        genotypes_list.append(list(markers_dict[marker_id]['genotype_scores'].keys() ))\n",
        "        #print(marker_id)\n",
        "        marker_names_list.append(marker_id)\n",
        "    #print(\"genotypes_list\")    \n",
        "    #print(genotypes_list)\n",
        "    #print(\"marker_names_list\")\n",
        "    #print(marker_names_list)\n",
        "    \n",
        "\n",
        "    # Enumerate explicitly all possible combinations of genotypes.  \n",
        "    # Generate string for a command: list(itertools.product(['TT','CT','CC'],...,['AA','AG','GG']))\n",
        "\n",
        "    arg_i = list() # arguments for itertools.product()\n",
        "    for marker_genotypes in genotypes_list:\n",
        "        arg_i.append(str(marker_genotypes))\n",
        "        #Evaluate itertools.product command and get all combinations of genotype indexes\n",
        "        #print(\"arg_i\")\n",
        "        #print(arg_i)\n",
        "        #arg_i : [\"dict_keys(['TT', 'CT', 'CC'])\", \"dict_keys(['CC', 'AC', 'AA'])\", \"dict_keys(['AA', 'AG', 'GG'])\"]\n",
        "        #print(\"join\")\n",
        "        #print(\"list(product(\"+\",\".join(arg_i)+\") )\")\n",
        "  \n",
        "    genotype_combinations = eval(\"list(product(\"+\",\".join(arg_i)+\"))\")\n",
        "    #print(genotype_combinations)\n",
        "\n",
        "    tgs_vec               = list()\n",
        "    table_gt_combinations = list()\n",
        "    header = \"Index\"+\",\"+\",\".join(marker_names_list)+\",\"+\",\".join([\"TGS\",\"TGS_normalized\"])\n",
        "    table_gt_combinations.append(header)\n",
        "\n",
        "    for gt_index,gt_combination in enumerate(genotype_combinations):\n",
        "        arg_i=list() # arg_i parameter string to call TGS function\n",
        "        for index,genotype in enumerate(gt_combination):\n",
        "            arg_i.append(marker_names_list[index]+\" \"+genotype)\n",
        "        # print(arg_i)    \n",
        "\n",
        "        tgs = total_genotype_score(\",\".join(arg_i),markers_dict) # Compute TGS\n",
        "        tgs_str = [\"%.4f\" % tgs[i] for i in range(len(tgs))]\n",
        "        line=str(gt_index)+\",\"+\",\".join(gt_combination)+\",\"+\",\".join(tgs_str) #Add row to the table\n",
        "        table_gt_combinations.append(line) #Add row to the table\n",
        "        tgs_vec.append(tgs[0]) # TGS non-normalized \n",
        "\n",
        "    tgs_frequency_dist=list()     # Create dictionary for TGS frequency distribution \n",
        "    tgs_frequency_dist.append(['Value','Count'])\n",
        "    tgs_values=list(set(tgs_vec)) # Count unique score occurrences\n",
        "    for x in tgs_values:\n",
        "        tgs_frequency_dist.append([x,tgs_vec.count(x)])\n",
        "    # sort by value\n",
        "    #print tgs_frequency_dist\n",
        "    return [table_gt_combinations,tgs_frequency_dist]\n",
        "\n",
        "\n",
        "#####################################################################################  \n",
        "# generate sample of size n for multiple markers \n",
        "# add random phenotypic information\n",
        "def generate_marker_table(markers,n,labels):\n",
        "    \"\"\"\n",
        "    Input:\n",
        "        markers - markers[phenotype] Ex: markers['injury']\n",
        "        n -  number of rows in the sample\n",
        "        labels - dictionary of phenotype labels Ex: {'endurance':0.35,'mix':0.35,'power':0.30} \n",
        "    Output:\n",
        "        table in which each column represents a marker\n",
        "        last column  class represents phenotypic information \n",
        "    \"\"\"\n",
        "    table = {}\n",
        "    for rsid in markers.keys():\n",
        "        m = np.random.choice(markers[rsid]['frequencies'].keys(),n,markers[rsid]['frequencies'].values())\n",
        "        table[rsid] = m\n",
        "    table['class'] = np.random.choice(labels.keys(),n,labels.values())\n",
        "    return table\n",
        "\n",
        "\n",
        "#####################################################################################  \n",
        "# write synthetic multi marker table to file\n",
        "def marker_table_to_csv(marker_table, output_csv_file_name):\n",
        "\n",
        "    # create object to write to csv file\n",
        "    csv_writer = csv.writer(open(output_csv_file_name,'w'),delimiter=',')\n",
        "    header = marker_table.keys()\n",
        "    n = len(marker_table[header[0]])\n",
        "    csv_writer.writerow(header)\n",
        "    for i in range(n):\n",
        "        csv_writer.writerow([marker_table[k][i] for k in header])\n",
        "\n",
        "####### Data with labels prepare for testing ##############################\n",
        "# Read markers from csv , compute TGS, \n",
        "# write markers and TGS to csv for testing in another envirinment\n",
        "def class_table_csv_for_testing(input_csv_file_name, phenotype_markers, output_csv_file_name):\n",
        "    class_table = list()\n",
        "    with open(input_csv_file_name) as csvfile:\n",
        "        reader = csv.DictReader(csvfile)\n",
        "        #only extract keys that begin with rs\n",
        "        for row in reader:\n",
        "            markers = list()\n",
        "            rsids = [s for s in row.keys() if 'rs' in s] \n",
        "            #print rsids\n",
        "            # create markers_list input to tgs_function\n",
        "            for rsid in rsids:\n",
        "                markers.append(' '.join([rsid,row[rsid]]))\n",
        "            markers_list = ','.join(markers)\n",
        "            # compute total genotype score\n",
        "            rez =total_genotype_score(markers_list, phenotype_markers) \n",
        "            rezs = [str(r) for r in rez]\n",
        "            s=','.join(rezs) \n",
        "\n",
        "            line = ','.join([markers_list,row['class'],','.join(rezs)])\n",
        "            class_table.append(line.split(','))\n",
        "    #print output_csv_file_name\n",
        "    with open(output_csv_file_name,'w') as outf:\n",
        "        for row in class_table:\n",
        "            row_str=\",\".join(row)\n",
        "            #print row_str\n",
        "            outf.write(\"%s\\n\" % row_str)\n",
        "\n",
        "    return class_table\n",
        "####### END OF FUNCTIONS ##############################\n"
      ],
      "execution_count": 28,
      "outputs": []
    },
    {
      "cell_type": "markdown",
      "metadata": {
        "id": "JNRNc5C9ZDc_"
      },
      "source": [
        "# Modeling LT athelete's TGS scores "
      ]
    },
    {
      "cell_type": "code",
      "metadata": {
        "id": "NQW4uSKoZOzz"
      },
      "source": [
        "import sys\n",
        "import itertools\n",
        "import csv\n",
        "\n",
        "##############################################################################\n",
        "# Modeling LT_athlete's TGS scores\n",
        "##############################################################################\n",
        "\n",
        "####### Endurance_power_markers dictionary \n",
        "markers_endpow ={ \\\n",
        "# Endurance_power markers of LT data sample\n",
        "     'endurance_power_vilnius': \\\n",
        "                {'rs1799752':     {'gene':'ACE', 'genotype_scores':{'DD': 1, 'ID': 0, 'II': -1},'allele_freq':{'I':0.43,'D':0.57}, 'conf': 1},\\\n",
        "                 'rs1815739':     {'gene':'ACTN3', 'genotype_scores':{'RR': 1, 'RX': 0, 'XX': -1},'allele_freq':{'R':0.65,'X':0.35}, 'conf': 1},\\\n",
        "                 'rs7293': {'gene':'MB','genotype_scores':{'AA': 1, 'AG': 0, 'GG': -1},'allele_freq':{'A':0.5,'G':0.5}, 'conf': 0.75},\\\n",
        "                 'rs17602729':{'gene':'AMPD1','genotype_scores':{'CC': 1, 'CT': -1, 'TT': -1},'allele_freq':{'C':0.85,'T':0.15}, 'conf': 0.75}}}\n",
        "\n",
        "endpow_gt_list='rs1799752 DD, rs1815739 RR, rs7293 AA, rs17602729 CC '\n",
        "\n",
        "tgs_endpow = total_genotype_score(endpow_gt_list, markers_endpow['endurance_power_vilnius'])\n",
        "print(\"Endurance power markers LT data: \",endpow_gt_list)\n",
        "print(\"TGS computed: \", tgs_endpow)\n",
        "\n",
        "co = genotype_combinations_tgs(markers_endpow['endurance_power_vilnius'])\n",
        "tg=co[0]\n",
        "ft=co[1]\n",
        "\n",
        "print(\"Endurance-power markers: all genotype combinations and their TGS:\") \n",
        "for x in tg:\n",
        "    print(x)\n",
        "\n",
        "print(\"Endurance-power markers: table of TGS frequency distribution:\") \n",
        "for x in ft:\n",
        "    print(x)\n"
      ],
      "execution_count": null,
      "outputs": []
    },
    {
      "cell_type": "markdown",
      "metadata": {
        "id": "vpur3nY-c9ws"
      },
      "source": [
        "# Processing real LT athlete's data "
      ]
    },
    {
      "cell_type": "code",
      "metadata": {
        "colab": {
          "base_uri": "https://localhost:8080/"
        },
        "id": "jnHoTwLAdHnW",
        "outputId": "6754e4f2-27ab-4eec-8cc7-39d58be11601"
      },
      "source": [
        "import pandas as pd\n",
        "# read the data\n",
        "url=\"https://raw.githubusercontent.com/erinijapranckeviciene/ppolygenic/master/lt_athletes.csv\"\n",
        "lt_athletes_data = pd.read_csv(url)\n",
        "print(lt_athletes_data.columns)\n",
        "lt_athletes_data.describe(include=['int','int64','float','object'])\n",
        "print(lt_athletes_data.head())\n",
        "\n",
        "# We have to organize reading a data frame by line , \n",
        "# form a list as below\n",
        "#\n",
        "# endpow_gt_list='rs1799752 DD, rs1815739 RR, rs7293 AA, rs17602729 CC '\n",
        "#\n",
        "# and for such list at each line  \n",
        "# compute TGS score and its normalized score and \n",
        "# add two columns to the data frame"
      ],
      "execution_count": 2,
      "outputs": [
        {
          "output_type": "stream",
          "text": [
            "Index(['ACTN3_rs1815739', 'AMPD1_rs17602729', 'MB_rs7293', 'ACE_rs1799752',\n",
            "       'class', 'gender'],\n",
            "      dtype='object')\n",
            "  ACTN3_rs1815739 AMPD1_rs17602729 MB_rs7293 ACE_rs1799752      class gender\n",
            "0              RX               CT        AA            ID  endurance      F\n",
            "1              RR               CC        AA            ID  endurance      F\n",
            "2              XX               CT        AA            II      power      M\n",
            "3              RX               CC        AG            DD      power      M\n",
            "4              RX               CC        AA            II      power      M\n"
          ],
          "name": "stdout"
        }
      ]
    },
    {
      "cell_type": "markdown",
      "metadata": {
        "id": "wEyMJhlSY1Mc"
      },
      "source": [
        "# Crosstabulation of genotypes by gender"
      ]
    },
    {
      "cell_type": "code",
      "metadata": {
        "colab": {
          "base_uri": "https://localhost:8080/"
        },
        "id": "sImocDC2Y8AE",
        "outputId": "caceacea-4ed6-4910-c4c6-598175db505d"
      },
      "source": [
        "import numpy as np\n",
        "import pandas as pd\n",
        "print(pd.crosstab(lt_athletes_data['ACE_rs1799752'],lt_athletes_data['gender']))\n",
        "print(pd.crosstab(lt_athletes_data['ACTN3_rs1815739'],lt_athletes_data['gender']))\n",
        "print(pd.crosstab(lt_athletes_data['AMPD1_rs17602729'],lt_athletes_data['gender']))\n",
        "print(pd.crosstab(lt_athletes_data['MB_rs7293'],lt_athletes_data['gender']))"
      ],
      "execution_count": 33,
      "outputs": [
        {
          "output_type": "stream",
          "text": [
            "gender          F   M\n",
            "ACE_rs1799752        \n",
            "DD             16  30\n",
            "ID             23  61\n",
            "II             11  39\n",
            "gender            F   M\n",
            "ACTN3_rs1815739        \n",
            "RR               16  40\n",
            "RX               29  73\n",
            "XX                5  17\n",
            "gender             F   M\n",
            "AMPD1_rs17602729        \n",
            "CC                34  99\n",
            "CT                15  30\n",
            "TT                 1   1\n",
            "gender      F   M\n",
            "MB_rs7293        \n",
            "AA         13  22\n",
            "AG         27  89\n",
            "GG         10  19\n"
          ],
          "name": "stdout"
        }
      ]
    },
    {
      "cell_type": "markdown",
      "metadata": {
        "id": "OXK0WLC8aXCU"
      },
      "source": [
        "# Crosstabulation of genotypes by sport"
      ]
    },
    {
      "cell_type": "code",
      "metadata": {
        "colab": {
          "base_uri": "https://localhost:8080/"
        },
        "id": "sowUTLGaaazp",
        "outputId": "e5c594b3-c936-45ab-d063-53fac732e4d1"
      },
      "source": [
        "import numpy as np\n",
        "import pandas as pd\n",
        "print(pd.crosstab(lt_athletes_data['ACE_rs1799752'],lt_athletes_data['class']))\n",
        "print(pd.crosstab(lt_athletes_data['ACTN3_rs1815739'],lt_athletes_data['class']))\n",
        "print(pd.crosstab(lt_athletes_data['AMPD1_rs17602729'],lt_athletes_data['class']))\n",
        "print(pd.crosstab(lt_athletes_data['MB_rs7293'],lt_athletes_data['class']))"
      ],
      "execution_count": 34,
      "outputs": [
        {
          "output_type": "stream",
          "text": [
            "class          endurance  mix  power\n",
            "ACE_rs1799752                       \n",
            "DD                    25   12      9\n",
            "ID                    39   28     17\n",
            "II                    17   15     18\n",
            "class            endurance  mix  power\n",
            "ACTN3_rs1815739                       \n",
            "RR                      22   18     16\n",
            "RX                      50   30     22\n",
            "XX                       9    7      6\n",
            "class             endurance  mix  power\n",
            "AMPD1_rs17602729                       \n",
            "CC                       63   37     33\n",
            "CT                       17   18     10\n",
            "TT                        1    0      1\n",
            "class      endurance  mix  power\n",
            "MB_rs7293                       \n",
            "AA                16   10      9\n",
            "AG                54   36     26\n",
            "GG                11    9      9\n"
          ],
          "name": "stdout"
        }
      ]
    },
    {
      "cell_type": "markdown",
      "metadata": {
        "id": "7x2XHjFqJX21"
      },
      "source": [
        "# Frequencies\n"
      ]
    },
    {
      "cell_type": "code",
      "metadata": {
        "colab": {
          "base_uri": "https://localhost:8080/"
        },
        "id": "S6vkQ1JoJl02",
        "outputId": "e03a8a8a-98d5-4882-d628-ef23fe9ad4c6"
      },
      "source": [
        "import numpy as np\n",
        "import pandas as pd\n",
        "nr,nc=lt_athletes_data.shape\n",
        "print(nr)\n",
        "gts=np.zeros([nr,3], dtype=object)\n",
        "for i in range(0,nr-1):\n",
        "    drow   = lt_athletes_data.iloc[i]\n",
        "    gta = drow['ACE_rs1799752']+drow['ACTN3_rs1815739']+drow['MB_rs7293']+drow['AMPD1_rs17602729']\n",
        "    #print(gta)\n",
        "    gts[i,0]=gta\n",
        "    gts[i,1]=drow['class']\n",
        "    gts[i,2]=drow['gender']\n",
        "gtsdf=pd.DataFrame(gts,columns=['GTS','class','gender'])\n",
        "gtsgender=pd.crosstab(gtsdf['GTS'],gtsdf['gender'])   \n",
        "gtsclass=pd.crosstab(gtsdf['GTS'],gtsdf['class'])\n",
        "\n"
      ],
      "execution_count": 18,
      "outputs": [
        {
          "output_type": "stream",
          "text": [
            "180\n"
          ],
          "name": "stdout"
        }
      ]
    },
    {
      "cell_type": "code",
      "metadata": {
        "colab": {
          "base_uri": "https://localhost:8080/",
          "height": 226
        },
        "id": "qMKZvZRjTEvJ",
        "outputId": "fc3603e6-489c-4ec3-8c1f-0d49a704ba1c"
      },
      "source": [
        "# merge gtsclass and gtsgender\n",
        "gtsm=pd.merge(gtsclass,gtsgender,on='GTS')\n",
        "gtsm1=gtsm.drop([0],axis=0)\n",
        "gtsm2=gtsm1.drop(['0_x','0_y'],axis=1)\n",
        "gtsm2.head()\n",
        "#Filter genotypes of females only\n"
      ],
      "execution_count": 28,
      "outputs": [
        {
          "output_type": "execute_result",
          "data": {
            "text/html": [
              "<div>\n",
              "<style scoped>\n",
              "    .dataframe tbody tr th:only-of-type {\n",
              "        vertical-align: middle;\n",
              "    }\n",
              "\n",
              "    .dataframe tbody tr th {\n",
              "        vertical-align: top;\n",
              "    }\n",
              "\n",
              "    .dataframe thead th {\n",
              "        text-align: right;\n",
              "    }\n",
              "</style>\n",
              "<table border=\"1\" class=\"dataframe\">\n",
              "  <thead>\n",
              "    <tr style=\"text-align: right;\">\n",
              "      <th></th>\n",
              "      <th>endurance</th>\n",
              "      <th>mix</th>\n",
              "      <th>power</th>\n",
              "      <th>F</th>\n",
              "      <th>M</th>\n",
              "    </tr>\n",
              "    <tr>\n",
              "      <th>GTS</th>\n",
              "      <th></th>\n",
              "      <th></th>\n",
              "      <th></th>\n",
              "      <th></th>\n",
              "      <th></th>\n",
              "    </tr>\n",
              "  </thead>\n",
              "  <tbody>\n",
              "    <tr>\n",
              "      <th>DDRRAACC</th>\n",
              "      <td>1</td>\n",
              "      <td>0</td>\n",
              "      <td>1</td>\n",
              "      <td>0</td>\n",
              "      <td>2</td>\n",
              "    </tr>\n",
              "    <tr>\n",
              "      <th>DDRRAACT</th>\n",
              "      <td>1</td>\n",
              "      <td>0</td>\n",
              "      <td>0</td>\n",
              "      <td>1</td>\n",
              "      <td>0</td>\n",
              "    </tr>\n",
              "    <tr>\n",
              "      <th>DDRRAGCC</th>\n",
              "      <td>3</td>\n",
              "      <td>3</td>\n",
              "      <td>0</td>\n",
              "      <td>1</td>\n",
              "      <td>5</td>\n",
              "    </tr>\n",
              "    <tr>\n",
              "      <th>DDRRAGCT</th>\n",
              "      <td>1</td>\n",
              "      <td>3</td>\n",
              "      <td>0</td>\n",
              "      <td>1</td>\n",
              "      <td>3</td>\n",
              "    </tr>\n",
              "    <tr>\n",
              "      <th>DDRRGGCC</th>\n",
              "      <td>0</td>\n",
              "      <td>0</td>\n",
              "      <td>1</td>\n",
              "      <td>1</td>\n",
              "      <td>0</td>\n",
              "    </tr>\n",
              "  </tbody>\n",
              "</table>\n",
              "</div>"
            ],
            "text/plain": [
              "          endurance  mix  power  F  M\n",
              "GTS                                  \n",
              "DDRRAACC          1    0      1  0  2\n",
              "DDRRAACT          1    0      0  1  0\n",
              "DDRRAGCC          3    3      0  1  5\n",
              "DDRRAGCT          1    3      0  1  3\n",
              "DDRRGGCC          0    0      1  1  0"
            ]
          },
          "metadata": {
            "tags": []
          },
          "execution_count": 28
        }
      ]
    },
    {
      "cell_type": "code",
      "metadata": {
        "colab": {
          "base_uri": "https://localhost:8080/",
          "height": 356
        },
        "id": "-pTYo7qPXGn_",
        "outputId": "cd203c53-f11a-4dfd-f157-f3f61eb48ffd"
      },
      "source": [
        "gtsm2f=gtsm2[(gtsm2['M']==0)]\n",
        "gtsm2f.plot.bar(y=['endurance','mix','power'])"
      ],
      "execution_count": 51,
      "outputs": [
        {
          "output_type": "execute_result",
          "data": {
            "text/plain": [
              "<matplotlib.axes._subplots.AxesSubplot at 0x7f08c84c8ad0>"
            ]
          },
          "metadata": {
            "tags": []
          },
          "execution_count": 51
        },
        {
          "output_type": "display_data",
          "data": {
            "image/png": "[encoded data removed]",
            "text/plain": [
              "<Figure size 432x288 with 1 Axes>"
            ]
          },
          "metadata": {
            "tags": []
          }
        }
      ]
    },
    {
      "cell_type": "code",
      "metadata": {
        "colab": {
          "base_uri": "https://localhost:8080/",
          "height": 355
        },
        "id": "FVB6oFNiYXUN",
        "outputId": "4db7e438-c3d8-4fa8-b6cc-dd3ebdb875bb"
      },
      "source": [
        "gtsm2m=gtsm2[(gtsm2['F']==0)]\n",
        "gtsm2m.plot.bar(y=['endurance','mix','power'])"
      ],
      "execution_count": 50,
      "outputs": [
        {
          "output_type": "execute_result",
          "data": {
            "text/plain": [
              "<matplotlib.axes._subplots.AxesSubplot at 0x7f08c8716150>"
            ]
          },
          "metadata": {
            "tags": []
          },
          "execution_count": 50
        },
        {
          "output_type": "display_data",
          "data": {
            "image/png": "[encoded data removed]",
            "text/plain": [
              "<Figure size 432x288 with 1 Axes>"
            ]
          },
          "metadata": {
            "tags": []
          }
        }
      ]
    },
    {
      "cell_type": "code",
      "metadata": {
        "colab": {
          "base_uri": "https://localhost:8080/"
        },
        "id": "-9ayAzDDba9k",
        "outputId": "c3c1609c-068b-409e-c559-e29c655fbf84"
      },
      "source": [
        "gtsm2fm=pd.DataFrame(gtsm2[(gtsm2['F']!=0) & (gtsm2['M']!=0)] )\n",
        "gtsm2fm.index"
      ],
      "execution_count": 43,
      "outputs": [
        {
          "output_type": "execute_result",
          "data": {
            "text/plain": [
              "Index(['DDRRAGCC', 'DDRRAGCT', 'DDRXAACC', 'DDRXAGCC', 'DDRXAGTT', 'DDXXGGCC',\n",
              "       'IDRRAACC', 'IDRRAGCC', 'IDRXAACC', 'IDRXAGCC', 'IDRXAGCT', 'IDRXGGCC',\n",
              "       'IDRXGGCT', 'IDXXAGCC', 'IIRRAGCC', 'IIRRGGCC', 'IIRXAACC', 'IIRXAACT',\n",
              "       'IIRXAGCC', 'IIRXAGCT'],\n",
              "      dtype='object', name='GTS')"
            ]
          },
          "metadata": {
            "tags": []
          },
          "execution_count": 43
        }
      ]
    },
    {
      "cell_type": "code",
      "metadata": {
        "colab": {
          "base_uri": "https://localhost:8080/",
          "height": 356
        },
        "id": "7ppQLgw3dERD",
        "outputId": "72d5399a-3526-4533-fbff-2479052b9f72"
      },
      "source": [
        "gtsm2fm.plot.bar(y=['endurance','mix','power'])\n"
      ],
      "execution_count": 49,
      "outputs": [
        {
          "output_type": "execute_result",
          "data": {
            "text/plain": [
              "<matplotlib.axes._subplots.AxesSubplot at 0x7f08c8bc5e10>"
            ]
          },
          "metadata": {
            "tags": []
          },
          "execution_count": 49
        },
        {
          "output_type": "display_data",
          "data": {
            "image/png": "[encoded data removed]",
            "text/plain": [
              "<Figure size 432x288 with 1 Axes>"
            ]
          },
          "metadata": {
            "tags": []
          }
        }
      ]
    },
    {
      "cell_type": "code",
      "metadata": {
        "colab": {
          "base_uri": "https://localhost:8080/",
          "height": 213
        },
        "id": "blkqCp8zmiqf",
        "outputId": "e70f6d4d-4032-4982-8a9d-4a11a7f85847"
      },
      "source": [
        "import numpy as np\n",
        "nr,nc=lt_athletes_data.shape\n",
        "print(nr)\n",
        "dftgs=np.zeros([nr,1], dtype=float)\n",
        "dftgsn=np.zeros([nr,1], dtype=float)\n",
        "for i in range(1,nr):\n",
        "    drow   = lt_athletes_data.iloc[i]\n",
        "    gtlist = 'rs1799752 '+drow['ACE_rs1799752']+', rs1815739 '+drow['ACTN3_rs1815739']+', rs7293 '+drow['MB_rs7293']+', rs17602729 '+drow['AMPD1_rs17602729']\n",
        "    #print(drow['ACTN3_rs1815739'],drow['AMPD1_rs17602729'], drow['MB_rs7293'],drow['ACE_rs1799752'] )\n",
        "    #print(gtlist)\n",
        "    # call total genotype score\n",
        "    tgs_endpow = total_genotype_score(gtlist, markers_endpow['endurance_power_vilnius'])\n",
        "    #print(\"Endurance power markers LT data: \",endpow_gt_list)\n",
        "    #print(\"TGS computed: \", tgs_endpow)\n",
        "    #print('TGS')\n",
        "    #print(tgs_endpow[0])\n",
        "    #print(tgs_endpow[1])\n",
        "    dftgs[i]=tgs_endpow[0]\n",
        "    dftgsn[i]=tgs_endpow[1]\n",
        "    \n",
        "#add two columns to the athletes dataframe with data\n",
        "lt_athletes_df=lt_athletes_data\n",
        "lt_athletes_df.insert(nc, \"TGS\", dftgs, True)\n",
        "lt_athletes_df.insert(nc+1, \"TGSnorm\", dftgsn, True)\n",
        "lt_athletes_df.head()"
      ],
      "execution_count": 90,
      "outputs": [
        {
          "output_type": "stream",
          "text": [
            "180\n"
          ],
          "name": "stdout"
        },
        {
          "output_type": "execute_result",
          "data": {
            "text/html": [
              "<div>\n",
              "<style scoped>\n",
              "    .dataframe tbody tr th:only-of-type {\n",
              "        vertical-align: middle;\n",
              "    }\n",
              "\n",
              "    .dataframe tbody tr th {\n",
              "        vertical-align: top;\n",
              "    }\n",
              "\n",
              "    .dataframe thead th {\n",
              "        text-align: right;\n",
              "    }\n",
              "</style>\n",
              "<table border=\"1\" class=\"dataframe\">\n",
              "  <thead>\n",
              "    <tr style=\"text-align: right;\">\n",
              "      <th></th>\n",
              "      <th>ACTN3_rs1815739</th>\n",
              "      <th>AMPD1_rs17602729</th>\n",
              "      <th>MB_rs7293</th>\n",
              "      <th>ACE_rs1799752</th>\n",
              "      <th>class</th>\n",
              "      <th>gender</th>\n",
              "      <th>TGS</th>\n",
              "      <th>TGSnorm</th>\n",
              "    </tr>\n",
              "  </thead>\n",
              "  <tbody>\n",
              "    <tr>\n",
              "      <th>0</th>\n",
              "      <td>RX</td>\n",
              "      <td>CT</td>\n",
              "      <td>AA</td>\n",
              "      <td>ID</td>\n",
              "      <td>endurance</td>\n",
              "      <td>F</td>\n",
              "      <td>0.00</td>\n",
              "      <td>0.000000</td>\n",
              "    </tr>\n",
              "    <tr>\n",
              "      <th>1</th>\n",
              "      <td>RR</td>\n",
              "      <td>CC</td>\n",
              "      <td>AA</td>\n",
              "      <td>ID</td>\n",
              "      <td>endurance</td>\n",
              "      <td>F</td>\n",
              "      <td>2.50</td>\n",
              "      <td>0.714286</td>\n",
              "    </tr>\n",
              "    <tr>\n",
              "      <th>2</th>\n",
              "      <td>XX</td>\n",
              "      <td>CT</td>\n",
              "      <td>AA</td>\n",
              "      <td>II</td>\n",
              "      <td>power</td>\n",
              "      <td>M</td>\n",
              "      <td>-2.00</td>\n",
              "      <td>-0.571429</td>\n",
              "    </tr>\n",
              "    <tr>\n",
              "      <th>3</th>\n",
              "      <td>RX</td>\n",
              "      <td>CC</td>\n",
              "      <td>AG</td>\n",
              "      <td>DD</td>\n",
              "      <td>power</td>\n",
              "      <td>M</td>\n",
              "      <td>1.75</td>\n",
              "      <td>0.500000</td>\n",
              "    </tr>\n",
              "    <tr>\n",
              "      <th>4</th>\n",
              "      <td>RX</td>\n",
              "      <td>CC</td>\n",
              "      <td>AA</td>\n",
              "      <td>II</td>\n",
              "      <td>power</td>\n",
              "      <td>M</td>\n",
              "      <td>0.50</td>\n",
              "      <td>0.142857</td>\n",
              "    </tr>\n",
              "  </tbody>\n",
              "</table>\n",
              "</div>"
            ],
            "text/plain": [
              "  ACTN3_rs1815739 AMPD1_rs17602729 MB_rs7293  ... gender   TGS   TGSnorm\n",
              "0              RX               CT        AA  ...      F  0.00  0.000000\n",
              "1              RR               CC        AA  ...      F  2.50  0.714286\n",
              "2              XX               CT        AA  ...      M -2.00 -0.571429\n",
              "3              RX               CC        AG  ...      M  1.75  0.500000\n",
              "4              RX               CC        AA  ...      M  0.50  0.142857\n",
              "\n",
              "[5 rows x 8 columns]"
            ]
          },
          "metadata": {
            "tags": []
          },
          "execution_count": 90
        }
      ]
    },
    {
      "cell_type": "markdown",
      "metadata": {
        "id": "dC4ebX38MddB"
      },
      "source": [
        "# Visualizations\n"
      ]
    },
    {
      "cell_type": "code",
      "metadata": {
        "colab": {
          "base_uri": "https://localhost:8080/",
          "height": 285
        },
        "id": "sC7I-F5NMhEA",
        "outputId": "08d0625c-440e-49b2-deb3-56f256e865bc"
      },
      "source": [
        "import seaborn as sns\n",
        "sns.set_theme(style=\"whitegrid\")\n",
        "\n",
        "# Load the example tips dataset\n",
        "#tips = sns.load_dataset(\"tips\")\n",
        "\n",
        "# Draw a nested violinplot and split the violins for easier comparison\n",
        "sns.violinplot(data=lt_athletes_df, x=\"class\", y=\"TGS\", hue=\"gender\",split=True, inner=\"quart\", linewidth=1)\n",
        "sns.despine(left=True)"
      ],
      "execution_count": 94,
      "outputs": [
        {
          "output_type": "display_data",
          "data": {
            "image/png": "[encoded data removed]",
            "text/plain": [
              "<Figure size 432x288 with 1 Axes>"
            ]
          },
          "metadata": {
            "tags": []
          }
        }
      ]
    },
    {
      "cell_type": "code",
      "metadata": {
        "colab": {
          "base_uri": "https://localhost:8080/",
          "height": 295
        },
        "id": "8-oWvpLgOYch",
        "outputId": "e639745c-07b7-4ba5-a5e7-b78ba94b6217"
      },
      "source": [
        "sns.set_theme(style=\"ticks\", palette=\"pastel\")\n",
        "\n",
        "# Load the example tips dataset\n",
        "#tips = sns.load_dataset(\"tips\")\n",
        "\n",
        "# Draw a nested boxplot to show bills by day and time\n",
        "sns.boxplot(x=\"class\", y=\"TGS\",\n",
        "            hue=\"gender\", palette=[\"m\", \"g\"],\n",
        "            data=lt_athletes_df)\n",
        "sns.despine(offset=10, trim=True)"
      ],
      "execution_count": 95,
      "outputs": [
        {
          "output_type": "display_data",
          "data": {
            "image/png": "[encoded data removed]",
            "text/plain": [
              "<Figure size 432x288 with 1 Axes>"
            ]
          },
          "metadata": {
            "tags": []
          }
        }
      ]
    },
    {
      "cell_type": "markdown",
      "metadata": {
        "id": "FVchA_7y1mdT"
      },
      "source": [
        "# Testing TGS functions Tests of structures and computations\n",
        "## **Injury markers**"
      ]
    },
    {
      "cell_type": "code",
      "metadata": {
        "colab": {
          "base_uri": "https://localhost:8080/"
        },
        "id": "itTz5bZGhgtp",
        "outputId": "5b40c1db-1eaf-4c56-d21a-4e58d575f0d2"
      },
      "source": [
        "import sys\n",
        "import itertools\n",
        "import csv\n",
        "\n",
        "#from tgs_functions import total_genotype_score, markers, markers_plus, genotype_combinations_tgs, generate_marker_table, marker_table_to_csv,class_table_csv_for_testing,labels\n",
        "\n",
        "##############################################################################\n",
        "# Testing markers computing all genotype combinations and TGS  frequency table\n",
        "##############################################################################\n",
        "\n",
        "####### Injury markers\n",
        "\n",
        "injury_gt_list='rs12722 TT, rs1800012 AA, rs679620 GG'\n",
        "injury_gt_list2='rs12722 CT, rs1800012 AA'\n",
        "\n",
        "tgs_injury = total_genotype_score(injury_gt_list2,markers['injury'])\n",
        "print(\"Injury markers: \",injury_gt_list2)\n",
        "print(\"TGS computed: \", tgs_injury)\n",
        "\n",
        "co = genotype_combinations_tgs(markers['injury'])\n",
        "tg=co[0]\n",
        "ft=co[1]\n",
        "\n",
        "print(\"Injury markers: all genotype combinations and their TGS:\") \n",
        "for x in tg:\n",
        "    print(x)\n",
        "\n",
        "print(\"Injury markers: table of TGS frequency distribution:\") \n",
        "for x in ft:\n",
        "    print(x)\n",
        "\n"
      ],
      "execution_count": 33,
      "outputs": [
        {
          "output_type": "stream",
          "text": [
            "Injury markers:  rs12722 CT, rs1800012 AA\n",
            "TGS computed:  [-1.0, -0.36363636363636365]\n",
            "['rs12722 TT', 'rs1800012 CC', 'rs679620 AA']\n",
            "['rs12722 TT', 'rs1800012 CC', 'rs679620 AG']\n",
            "['rs12722 TT', 'rs1800012 CC', 'rs679620 GG']\n",
            "['rs12722 TT', 'rs1800012 AC', 'rs679620 AA']\n",
            "['rs12722 TT', 'rs1800012 AC', 'rs679620 AG']\n",
            "['rs12722 TT', 'rs1800012 AC', 'rs679620 GG']\n",
            "['rs12722 TT', 'rs1800012 AA', 'rs679620 AA']\n",
            "['rs12722 TT', 'rs1800012 AA', 'rs679620 AG']\n",
            "['rs12722 TT', 'rs1800012 AA', 'rs679620 GG']\n",
            "['rs12722 CT', 'rs1800012 CC', 'rs679620 AA']\n",
            "['rs12722 CT', 'rs1800012 CC', 'rs679620 AG']\n",
            "['rs12722 CT', 'rs1800012 CC', 'rs679620 GG']\n",
            "['rs12722 CT', 'rs1800012 AC', 'rs679620 AA']\n",
            "['rs12722 CT', 'rs1800012 AC', 'rs679620 AG']\n",
            "['rs12722 CT', 'rs1800012 AC', 'rs679620 GG']\n",
            "['rs12722 CT', 'rs1800012 AA', 'rs679620 AA']\n",
            "['rs12722 CT', 'rs1800012 AA', 'rs679620 AG']\n",
            "['rs12722 CT', 'rs1800012 AA', 'rs679620 GG']\n",
            "['rs12722 CC', 'rs1800012 CC', 'rs679620 AA']\n",
            "['rs12722 CC', 'rs1800012 CC', 'rs679620 AG']\n",
            "['rs12722 CC', 'rs1800012 CC', 'rs679620 GG']\n",
            "['rs12722 CC', 'rs1800012 AC', 'rs679620 AA']\n",
            "['rs12722 CC', 'rs1800012 AC', 'rs679620 AG']\n",
            "['rs12722 CC', 'rs1800012 AC', 'rs679620 GG']\n",
            "['rs12722 CC', 'rs1800012 AA', 'rs679620 AA']\n",
            "['rs12722 CC', 'rs1800012 AA', 'rs679620 AG']\n",
            "['rs12722 CC', 'rs1800012 AA', 'rs679620 GG']\n",
            "Injury markers: all genotype combinations and their TGS:\n",
            "Index,rs12722,rs1800012,rs679620,TGS,TGS_normalized\n",
            "0,TT,CC,AA,1.7500,0.6364\n",
            "1,TT,CC,AG,1.0000,0.3636\n",
            "2,TT,CC,GG,0.2500,0.0909\n",
            "3,TT,AC,AA,1.7500,0.6364\n",
            "4,TT,AC,AG,1.0000,0.3636\n",
            "5,TT,AC,GG,0.2500,0.0909\n",
            "6,TT,AA,AA,0.7500,0.2727\n",
            "7,TT,AA,AG,0.0000,0.0000\n",
            "8,TT,AA,GG,-0.7500,-0.2727\n",
            "9,CT,CC,AA,0.7500,0.2727\n",
            "10,CT,CC,AG,0.0000,0.0000\n",
            "11,CT,CC,GG,-0.7500,-0.2727\n",
            "12,CT,AC,AA,0.7500,0.2727\n",
            "13,CT,AC,AG,0.0000,0.0000\n",
            "14,CT,AC,GG,-0.7500,-0.2727\n",
            "15,CT,AA,AA,-0.2500,-0.0909\n",
            "16,CT,AA,AG,-1.0000,-0.3636\n",
            "17,CT,AA,GG,-1.7500,-0.6364\n",
            "18,CC,CC,AA,-0.2500,-0.0909\n",
            "19,CC,CC,AG,-1.0000,-0.3636\n",
            "20,CC,CC,GG,-1.7500,-0.6364\n",
            "21,CC,AC,AA,-0.2500,-0.0909\n",
            "22,CC,AC,AG,-1.0000,-0.3636\n",
            "23,CC,AC,GG,-1.7500,-0.6364\n",
            "24,CC,AA,AA,-1.2500,-0.4545\n",
            "25,CC,AA,AG,-2.0000,-0.7273\n",
            "26,CC,AA,GG,-2.7500,-1.0000\n",
            "Injury markers: table of TGS frequency distribution:\n",
            "['Value', 'Count']\n",
            "[0.25, 2]\n",
            "[1.75, 2]\n",
            "[0.0, 3]\n",
            "[1.0, 2]\n",
            "[0.75, 3]\n",
            "[-0.75, 3]\n",
            "[-0.25, 3]\n",
            "[-2.0, 1]\n",
            "[-2.75, 1]\n",
            "[-1.25, 1]\n",
            "[-1.0, 3]\n",
            "[-1.75, 3]\n"
          ],
          "name": "stdout"
        }
      ]
    },
    {
      "cell_type": "markdown",
      "metadata": {
        "id": "4yyb8_ee2TCC"
      },
      "source": [
        "## **Power-endurance markers**"
      ]
    },
    {
      "cell_type": "code",
      "metadata": {
        "colab": {
          "base_uri": "https://localhost:8080/"
        },
        "id": "0dtcVeEx2UBm",
        "outputId": "61ad6489-67bb-4328-fd37-06384b268cca"
      },
      "source": [
        "####### Endurance and power markers\n",
        "\n",
        "endurance_power_gt_list='rs699 AA, rs1042713 AG, rs11549465 CT'\n",
        "\n",
        "tgs_endurance_power = total_genotype_score(endurance_power_gt_list,markers['endurance_power'])\n",
        "print(\"Endurance_power markers: \",endurance_power_gt_list) \n",
        "print(\"TGS computed: \", tgs_endurance_power)\n",
        "\n",
        "co = genotype_combinations_tgs(markers['endurance_power'])\n",
        "tg=co[0]\n",
        "ft=co[1]\n",
        "\n",
        "print(\"Endurance and power markers: all genotype combinations and their TGS:\") \n",
        "for x in tg:\n",
        "    print(x)\n",
        "\n",
        "print(\"Endurance and power markers: table of TGS frequency distribution:\") \n",
        "for x in ft:\n",
        "    print(x)\n"
      ],
      "execution_count": 30,
      "outputs": [
        {
          "output_type": "stream",
          "text": [
            "Endurance_power markers:  rs699 AA, rs1042713 AG, rs11549465 CT\n",
            "TGS computed:  [1.0, 0.3333333333333333]\n",
            "['rs699 AA', 'rs1042713 AA', 'rs11549465 CC']\n",
            "['rs699 AA', 'rs1042713 AA', 'rs11549465 CT']\n",
            "['rs699 AA', 'rs1042713 AA', 'rs11549465 TT']\n",
            "['rs699 AA', 'rs1042713 AG', 'rs11549465 CC']\n",
            "['rs699 AA', 'rs1042713 AG', 'rs11549465 CT']\n",
            "['rs699 AA', 'rs1042713 AG', 'rs11549465 TT']\n",
            "['rs699 AA', 'rs1042713 GG', 'rs11549465 CC']\n",
            "['rs699 AA', 'rs1042713 GG', 'rs11549465 CT']\n",
            "['rs699 AA', 'rs1042713 GG', 'rs11549465 TT']\n",
            "['rs699 AG', 'rs1042713 AA', 'rs11549465 CC']\n",
            "['rs699 AG', 'rs1042713 AA', 'rs11549465 CT']\n",
            "['rs699 AG', 'rs1042713 AA', 'rs11549465 TT']\n",
            "['rs699 AG', 'rs1042713 AG', 'rs11549465 CC']\n",
            "['rs699 AG', 'rs1042713 AG', 'rs11549465 CT']\n",
            "['rs699 AG', 'rs1042713 AG', 'rs11549465 TT']\n",
            "['rs699 AG', 'rs1042713 GG', 'rs11549465 CC']\n",
            "['rs699 AG', 'rs1042713 GG', 'rs11549465 CT']\n",
            "['rs699 AG', 'rs1042713 GG', 'rs11549465 TT']\n",
            "['rs699 GG', 'rs1042713 AA', 'rs11549465 CC']\n",
            "['rs699 GG', 'rs1042713 AA', 'rs11549465 CT']\n",
            "['rs699 GG', 'rs1042713 AA', 'rs11549465 TT']\n",
            "['rs699 GG', 'rs1042713 AG', 'rs11549465 CC']\n",
            "['rs699 GG', 'rs1042713 AG', 'rs11549465 CT']\n",
            "['rs699 GG', 'rs1042713 AG', 'rs11549465 TT']\n",
            "['rs699 GG', 'rs1042713 GG', 'rs11549465 CC']\n",
            "['rs699 GG', 'rs1042713 GG', 'rs11549465 CT']\n",
            "['rs699 GG', 'rs1042713 GG', 'rs11549465 TT']\n",
            "Endurance and power markers: all genotype combinations and their TGS:\n",
            "Index,rs699,rs1042713,rs11549465,TGS,TGS_normalized\n",
            "0,AA,AA,CC,3.0000,1.0000\n",
            "1,AA,AA,CT,2.0000,0.6667\n",
            "2,AA,AA,TT,1.0000,0.3333\n",
            "3,AA,AG,CC,2.0000,0.6667\n",
            "4,AA,AG,CT,1.0000,0.3333\n",
            "5,AA,AG,TT,0.0000,0.0000\n",
            "6,AA,GG,CC,1.0000,0.3333\n",
            "7,AA,GG,CT,0.0000,0.0000\n",
            "8,AA,GG,TT,-1.0000,-0.3333\n",
            "9,AG,AA,CC,2.0000,0.6667\n",
            "10,AG,AA,CT,1.0000,0.3333\n",
            "11,AG,AA,TT,0.0000,0.0000\n",
            "12,AG,AG,CC,1.0000,0.3333\n",
            "13,AG,AG,CT,0.0000,0.0000\n",
            "14,AG,AG,TT,-1.0000,-0.3333\n",
            "15,AG,GG,CC,0.0000,0.0000\n",
            "16,AG,GG,CT,-1.0000,-0.3333\n",
            "17,AG,GG,TT,-2.0000,-0.6667\n",
            "18,GG,AA,CC,1.0000,0.3333\n",
            "19,GG,AA,CT,0.0000,0.0000\n",
            "20,GG,AA,TT,-1.0000,-0.3333\n",
            "21,GG,AG,CC,0.0000,0.0000\n",
            "22,GG,AG,CT,-1.0000,-0.3333\n",
            "23,GG,AG,TT,-2.0000,-0.6667\n",
            "24,GG,GG,CC,-1.0000,-0.3333\n",
            "25,GG,GG,CT,-2.0000,-0.6667\n",
            "26,GG,GG,TT,-3.0000,-1.0000\n",
            "Endurance and power markers: table of TGS frequency distribution:\n",
            "['Value', 'Count']\n",
            "[0.0, 7]\n",
            "[1.0, 6]\n",
            "[2.0, 3]\n",
            "[3.0, 1]\n",
            "[-2.0, 3]\n",
            "[-3.0, 1]\n",
            "[-1.0, 6]\n"
          ],
          "name": "stdout"
        }
      ]
    },
    {
      "cell_type": "markdown",
      "metadata": {
        "id": "BzRJQxzg2gDB"
      },
      "source": [
        "## **Vitamin B12 markers**"
      ]
    },
    {
      "cell_type": "code",
      "metadata": {
        "colab": {
          "base_uri": "https://localhost:8080/"
        },
        "id": "ID3FM5nP2mMB",
        "outputId": "e97ad54c-fa34-4ffd-9624-ccdb0c6f3e30"
      },
      "source": [
        "\n",
        "\n",
        "####### Vitamin B12 markers\n",
        "\n",
        "vitaminB12_gt_list='rs1801133 GG, rs602662 AA, rs526934 AG, rs1801222 CC'\n",
        "\n",
        "tgs_vitaminB12 = total_genotype_score(vitaminB12_gt_list,markers['vitaminB12'])\n",
        "print(\"VitaminB12 markers: \",vitaminB12_gt_list) \n",
        "print(\"TGS computed: \", tgs_vitaminB12)\n",
        "\n",
        "co = genotype_combinations_tgs(markers['vitaminB12'])\n",
        "tg=co[0]\n",
        "ft=co[1]\n",
        "\n",
        "print(\"Vitamin B12 status markers: all genotype combinations and their TGS:\") \n",
        "for x in tg:\n",
        "    print(x)\n",
        "\n",
        "print(\"Vitamin B12 status markers: table of TGS frequency distribution:\") \n",
        "for x in ft:\n",
        "    print(x)"
      ],
      "execution_count": 31,
      "outputs": [
        {
          "output_type": "stream",
          "text": [
            "VitaminB12 markers:  rs1801133 GG, rs602662 AA, rs526934 AG, rs1801222 CC\n",
            "TGS computed:  [0.7, 0.175]\n",
            "['rs1801133 GG', 'rs602662 AA', 'rs526934 AA', 'rs1801222 CC']\n",
            "['rs1801133 GG', 'rs602662 AA', 'rs526934 AA', 'rs1801222 CT']\n",
            "['rs1801133 GG', 'rs602662 AA', 'rs526934 AA', 'rs1801222 TT']\n",
            "['rs1801133 GG', 'rs602662 AA', 'rs526934 AG', 'rs1801222 CC']\n",
            "['rs1801133 GG', 'rs602662 AA', 'rs526934 AG', 'rs1801222 CT']\n",
            "['rs1801133 GG', 'rs602662 AA', 'rs526934 AG', 'rs1801222 TT']\n",
            "['rs1801133 GG', 'rs602662 AA', 'rs526934 GG', 'rs1801222 CC']\n",
            "['rs1801133 GG', 'rs602662 AA', 'rs526934 GG', 'rs1801222 CT']\n",
            "['rs1801133 GG', 'rs602662 AA', 'rs526934 GG', 'rs1801222 TT']\n",
            "['rs1801133 GG', 'rs602662 AG', 'rs526934 AA', 'rs1801222 CC']\n",
            "['rs1801133 GG', 'rs602662 AG', 'rs526934 AA', 'rs1801222 CT']\n",
            "['rs1801133 GG', 'rs602662 AG', 'rs526934 AA', 'rs1801222 TT']\n",
            "['rs1801133 GG', 'rs602662 AG', 'rs526934 AG', 'rs1801222 CC']\n",
            "['rs1801133 GG', 'rs602662 AG', 'rs526934 AG', 'rs1801222 CT']\n",
            "['rs1801133 GG', 'rs602662 AG', 'rs526934 AG', 'rs1801222 TT']\n",
            "['rs1801133 GG', 'rs602662 AG', 'rs526934 GG', 'rs1801222 CC']\n",
            "['rs1801133 GG', 'rs602662 AG', 'rs526934 GG', 'rs1801222 CT']\n",
            "['rs1801133 GG', 'rs602662 AG', 'rs526934 GG', 'rs1801222 TT']\n",
            "['rs1801133 GG', 'rs602662 GG', 'rs526934 AA', 'rs1801222 CC']\n",
            "['rs1801133 GG', 'rs602662 GG', 'rs526934 AA', 'rs1801222 CT']\n",
            "['rs1801133 GG', 'rs602662 GG', 'rs526934 AA', 'rs1801222 TT']\n",
            "['rs1801133 GG', 'rs602662 GG', 'rs526934 AG', 'rs1801222 CC']\n",
            "['rs1801133 GG', 'rs602662 GG', 'rs526934 AG', 'rs1801222 CT']\n",
            "['rs1801133 GG', 'rs602662 GG', 'rs526934 AG', 'rs1801222 TT']\n",
            "['rs1801133 GG', 'rs602662 GG', 'rs526934 GG', 'rs1801222 CC']\n",
            "['rs1801133 GG', 'rs602662 GG', 'rs526934 GG', 'rs1801222 CT']\n",
            "['rs1801133 GG', 'rs602662 GG', 'rs526934 GG', 'rs1801222 TT']\n",
            "['rs1801133 AG', 'rs602662 AA', 'rs526934 AA', 'rs1801222 CC']\n",
            "['rs1801133 AG', 'rs602662 AA', 'rs526934 AA', 'rs1801222 CT']\n",
            "['rs1801133 AG', 'rs602662 AA', 'rs526934 AA', 'rs1801222 TT']\n",
            "['rs1801133 AG', 'rs602662 AA', 'rs526934 AG', 'rs1801222 CC']\n",
            "['rs1801133 AG', 'rs602662 AA', 'rs526934 AG', 'rs1801222 CT']\n",
            "['rs1801133 AG', 'rs602662 AA', 'rs526934 AG', 'rs1801222 TT']\n",
            "['rs1801133 AG', 'rs602662 AA', 'rs526934 GG', 'rs1801222 CC']\n",
            "['rs1801133 AG', 'rs602662 AA', 'rs526934 GG', 'rs1801222 CT']\n",
            "['rs1801133 AG', 'rs602662 AA', 'rs526934 GG', 'rs1801222 TT']\n",
            "['rs1801133 AG', 'rs602662 AG', 'rs526934 AA', 'rs1801222 CC']\n",
            "['rs1801133 AG', 'rs602662 AG', 'rs526934 AA', 'rs1801222 CT']\n",
            "['rs1801133 AG', 'rs602662 AG', 'rs526934 AA', 'rs1801222 TT']\n",
            "['rs1801133 AG', 'rs602662 AG', 'rs526934 AG', 'rs1801222 CC']\n",
            "['rs1801133 AG', 'rs602662 AG', 'rs526934 AG', 'rs1801222 CT']\n",
            "['rs1801133 AG', 'rs602662 AG', 'rs526934 AG', 'rs1801222 TT']\n",
            "['rs1801133 AG', 'rs602662 AG', 'rs526934 GG', 'rs1801222 CC']\n",
            "['rs1801133 AG', 'rs602662 AG', 'rs526934 GG', 'rs1801222 CT']\n",
            "['rs1801133 AG', 'rs602662 AG', 'rs526934 GG', 'rs1801222 TT']\n",
            "['rs1801133 AG', 'rs602662 GG', 'rs526934 AA', 'rs1801222 CC']\n",
            "['rs1801133 AG', 'rs602662 GG', 'rs526934 AA', 'rs1801222 CT']\n",
            "['rs1801133 AG', 'rs602662 GG', 'rs526934 AA', 'rs1801222 TT']\n",
            "['rs1801133 AG', 'rs602662 GG', 'rs526934 AG', 'rs1801222 CC']\n",
            "['rs1801133 AG', 'rs602662 GG', 'rs526934 AG', 'rs1801222 CT']\n",
            "['rs1801133 AG', 'rs602662 GG', 'rs526934 AG', 'rs1801222 TT']\n",
            "['rs1801133 AG', 'rs602662 GG', 'rs526934 GG', 'rs1801222 CC']\n",
            "['rs1801133 AG', 'rs602662 GG', 'rs526934 GG', 'rs1801222 CT']\n",
            "['rs1801133 AG', 'rs602662 GG', 'rs526934 GG', 'rs1801222 TT']\n",
            "['rs1801133 AA', 'rs602662 AA', 'rs526934 AA', 'rs1801222 CC']\n",
            "['rs1801133 AA', 'rs602662 AA', 'rs526934 AA', 'rs1801222 CT']\n",
            "['rs1801133 AA', 'rs602662 AA', 'rs526934 AA', 'rs1801222 TT']\n",
            "['rs1801133 AA', 'rs602662 AA', 'rs526934 AG', 'rs1801222 CC']\n",
            "['rs1801133 AA', 'rs602662 AA', 'rs526934 AG', 'rs1801222 CT']\n",
            "['rs1801133 AA', 'rs602662 AA', 'rs526934 AG', 'rs1801222 TT']\n",
            "['rs1801133 AA', 'rs602662 AA', 'rs526934 GG', 'rs1801222 CC']\n",
            "['rs1801133 AA', 'rs602662 AA', 'rs526934 GG', 'rs1801222 CT']\n",
            "['rs1801133 AA', 'rs602662 AA', 'rs526934 GG', 'rs1801222 TT']\n",
            "['rs1801133 AA', 'rs602662 AG', 'rs526934 AA', 'rs1801222 CC']\n",
            "['rs1801133 AA', 'rs602662 AG', 'rs526934 AA', 'rs1801222 CT']\n",
            "['rs1801133 AA', 'rs602662 AG', 'rs526934 AA', 'rs1801222 TT']\n",
            "['rs1801133 AA', 'rs602662 AG', 'rs526934 AG', 'rs1801222 CC']\n",
            "['rs1801133 AA', 'rs602662 AG', 'rs526934 AG', 'rs1801222 CT']\n",
            "['rs1801133 AA', 'rs602662 AG', 'rs526934 AG', 'rs1801222 TT']\n",
            "['rs1801133 AA', 'rs602662 AG', 'rs526934 GG', 'rs1801222 CC']\n",
            "['rs1801133 AA', 'rs602662 AG', 'rs526934 GG', 'rs1801222 CT']\n",
            "['rs1801133 AA', 'rs602662 AG', 'rs526934 GG', 'rs1801222 TT']\n",
            "['rs1801133 AA', 'rs602662 GG', 'rs526934 AA', 'rs1801222 CC']\n",
            "['rs1801133 AA', 'rs602662 GG', 'rs526934 AA', 'rs1801222 CT']\n",
            "['rs1801133 AA', 'rs602662 GG', 'rs526934 AA', 'rs1801222 TT']\n",
            "['rs1801133 AA', 'rs602662 GG', 'rs526934 AG', 'rs1801222 CC']\n",
            "['rs1801133 AA', 'rs602662 GG', 'rs526934 AG', 'rs1801222 CT']\n",
            "['rs1801133 AA', 'rs602662 GG', 'rs526934 AG', 'rs1801222 TT']\n",
            "['rs1801133 AA', 'rs602662 GG', 'rs526934 GG', 'rs1801222 CC']\n",
            "['rs1801133 AA', 'rs602662 GG', 'rs526934 GG', 'rs1801222 CT']\n",
            "['rs1801133 AA', 'rs602662 GG', 'rs526934 GG', 'rs1801222 TT']\n",
            "Vitamin B12 status markers: all genotype combinations and their TGS:\n",
            "Index,rs1801133,rs602662,rs526934,rs1801222,TGS,TGS_normalized\n",
            "0,GG,AA,AA,CC,1.7000,0.4250\n",
            "1,GG,AA,AA,CT,0.7000,0.1750\n",
            "2,GG,AA,AA,TT,-0.3000,-0.0750\n",
            "3,GG,AA,AG,CC,0.7000,0.1750\n",
            "4,GG,AA,AG,CT,-0.3000,-0.0750\n",
            "5,GG,AA,AG,TT,-1.3000,-0.3250\n",
            "6,GG,AA,GG,CC,0.7000,0.1750\n",
            "7,GG,AA,GG,CT,-0.3000,-0.0750\n",
            "8,GG,AA,GG,TT,-1.3000,-0.3250\n",
            "9,GG,AG,AA,CC,1.0000,0.2500\n",
            "10,GG,AG,AA,CT,0.0000,0.0000\n",
            "11,GG,AG,AA,TT,-1.0000,-0.2500\n",
            "12,GG,AG,AG,CC,0.0000,0.0000\n",
            "13,GG,AG,AG,CT,-1.0000,-0.2500\n",
            "14,GG,AG,AG,TT,-2.0000,-0.5000\n",
            "15,GG,AG,GG,CC,0.0000,0.0000\n",
            "16,GG,AG,GG,CT,-1.0000,-0.2500\n",
            "17,GG,AG,GG,TT,-2.0000,-0.5000\n",
            "18,GG,GG,AA,CC,0.0000,0.0000\n",
            "19,GG,GG,AA,CT,-1.0000,-0.2500\n",
            "20,GG,GG,AA,TT,-2.0000,-0.5000\n",
            "21,GG,GG,AG,CC,-1.0000,-0.2500\n",
            "22,GG,GG,AG,CT,-2.0000,-0.5000\n",
            "23,GG,GG,AG,TT,-3.0000,-0.7500\n",
            "24,GG,GG,GG,CC,-1.0000,-0.2500\n",
            "25,GG,GG,GG,CT,-2.0000,-0.5000\n",
            "26,GG,GG,GG,TT,-3.0000,-0.7500\n",
            "27,AG,AA,AA,CC,1.0000,0.2500\n",
            "28,AG,AA,AA,CT,0.0000,0.0000\n",
            "29,AG,AA,AA,TT,-1.0000,-0.2500\n",
            "30,AG,AA,AG,CC,0.0000,0.0000\n",
            "31,AG,AA,AG,CT,-1.0000,-0.2500\n",
            "32,AG,AA,AG,TT,-2.0000,-0.5000\n",
            "33,AG,AA,GG,CC,0.0000,0.0000\n",
            "34,AG,AA,GG,CT,-1.0000,-0.2500\n",
            "35,AG,AA,GG,TT,-2.0000,-0.5000\n",
            "36,AG,AG,AA,CC,0.3000,0.0750\n",
            "37,AG,AG,AA,CT,-0.7000,-0.1750\n",
            "38,AG,AG,AA,TT,-1.7000,-0.4250\n",
            "39,AG,AG,AG,CC,-0.7000,-0.1750\n",
            "40,AG,AG,AG,CT,-1.7000,-0.4250\n",
            "41,AG,AG,AG,TT,-2.7000,-0.6750\n",
            "42,AG,AG,GG,CC,-0.7000,-0.1750\n",
            "43,AG,AG,GG,CT,-1.7000,-0.4250\n",
            "44,AG,AG,GG,TT,-2.7000,-0.6750\n",
            "45,AG,GG,AA,CC,-0.7000,-0.1750\n",
            "46,AG,GG,AA,CT,-1.7000,-0.4250\n",
            "47,AG,GG,AA,TT,-2.7000,-0.6750\n",
            "48,AG,GG,AG,CC,-1.7000,-0.4250\n",
            "49,AG,GG,AG,CT,-2.7000,-0.6750\n",
            "50,AG,GG,AG,TT,-3.7000,-0.9250\n",
            "51,AG,GG,GG,CC,-1.7000,-0.4250\n",
            "52,AG,GG,GG,CT,-2.7000,-0.6750\n",
            "53,AG,GG,GG,TT,-3.7000,-0.9250\n",
            "54,AA,AA,AA,CC,0.7000,0.1750\n",
            "55,AA,AA,AA,CT,-0.3000,-0.0750\n",
            "56,AA,AA,AA,TT,-1.3000,-0.3250\n",
            "57,AA,AA,AG,CC,-0.3000,-0.0750\n",
            "58,AA,AA,AG,CT,-1.3000,-0.3250\n",
            "59,AA,AA,AG,TT,-2.3000,-0.5750\n",
            "60,AA,AA,GG,CC,-0.3000,-0.0750\n",
            "61,AA,AA,GG,CT,-1.3000,-0.3250\n",
            "62,AA,AA,GG,TT,-2.3000,-0.5750\n",
            "63,AA,AG,AA,CC,0.0000,0.0000\n",
            "64,AA,AG,AA,CT,-1.0000,-0.2500\n",
            "65,AA,AG,AA,TT,-2.0000,-0.5000\n",
            "66,AA,AG,AG,CC,-1.0000,-0.2500\n",
            "67,AA,AG,AG,CT,-2.0000,-0.5000\n",
            "68,AA,AG,AG,TT,-3.0000,-0.7500\n",
            "69,AA,AG,GG,CC,-1.0000,-0.2500\n",
            "70,AA,AG,GG,CT,-2.0000,-0.5000\n",
            "71,AA,AG,GG,TT,-3.0000,-0.7500\n",
            "72,AA,GG,AA,CC,-1.0000,-0.2500\n",
            "73,AA,GG,AA,CT,-2.0000,-0.5000\n",
            "74,AA,GG,AA,TT,-3.0000,-0.7500\n",
            "75,AA,GG,AG,CC,-2.0000,-0.5000\n",
            "76,AA,GG,AG,CT,-3.0000,-0.7500\n",
            "77,AA,GG,AG,TT,-4.0000,-1.0000\n",
            "78,AA,GG,GG,CC,-2.0000,-0.5000\n",
            "79,AA,GG,GG,CT,-3.0000,-0.7500\n",
            "80,AA,GG,GG,TT,-4.0000,-1.0000\n",
            "Vitamin B12 status markers: table of TGS frequency distribution:\n",
            "['Value', 'Count']\n",
            "[0.7, 4]\n",
            "[1.7, 1]\n",
            "[1.0, 2]\n",
            "[-0.30000000000000004, 6]\n",
            "[0.0, 8]\n",
            "[0.30000000000000004, 1]\n",
            "[-0.7, 4]\n",
            "[-1.7, 4]\n",
            "[-3.7, 2]\n",
            "[-2.0, 13]\n",
            "[-2.7, 5]\n",
            "[-2.3, 2]\n",
            "[-1.7000000000000002, 2]\n",
            "[-4.0, 2]\n",
            "[-3.0, 7]\n",
            "[-1.0, 13]\n",
            "[-1.3, 5]\n"
          ],
          "name": "stdout"
        }
      ]
    }
  ]
}